{
  "nbformat": 4,
  "nbformat_minor": 0,
  "metadata": {
    "colab": {
      "name": "DL-Assignment-1.ipynb",
      "provenance": [],
      "collapsed_sections": [
        "Y2LuwnJsibi0"
      ]
    },
    "kernelspec": {
      "display_name": "Python 3",
      "name": "python3"
    }
  },
  "cells": [
    {
      "cell_type": "code",
      "metadata": {
        "id": "Hpyz5j07rH2E"
      },
      "source": [
        "pip install --upgrade wandb"
      ],
      "execution_count": null,
      "outputs": []
    },
    {
      "cell_type": "code",
      "metadata": {
        "id": "CAIu3rObrQiU"
      },
      "source": [
        "!wandb login dd888f73500a67fc53f9191092b22f3946ac0e02"
      ],
      "execution_count": null,
      "outputs": []
    },
    {
      "cell_type": "code",
      "metadata": {
        "id": "O6B76YblrTNs"
      },
      "source": [
        "# Init wandb\r\n",
        "import wandb\r\n",
        "\r\n",
        "wandb.init(project=\"assignment-1\", entity=\"ravi-kumar\")\r\n",
        "\r\n",
        "# Declare Hyperparameters\r\n"
      ],
      "execution_count": null,
      "outputs": []
    },
    {
      "cell_type": "markdown",
      "metadata": {
        "id": "Y2LuwnJsibi0"
      },
      "source": [
        "#Question 1"
      ]
    },
    {
      "cell_type": "code",
      "metadata": {
        "id": "0K-FA-RtiaPs"
      },
      "source": [
        "def q1_plot_samples():\r\n",
        "  (x_train, y_train), (x_test, y_test) = fashion_mnist.load_data()\r\n",
        "\r\n",
        "  labels=[\"T-shirt/top\",\"Trouser\",\"Pullover\",\"Dress\",\"Coat\",\r\n",
        "        \"Sandal\",\"Shirt\",\"Sneaker\",\"Bag\",\"Ankle boot\"]\r\n",
        "  p_images, p_labels= [], []\r\n",
        "\r\n",
        "  for i in range(len(x_train)):\r\n",
        "    if len(p_labels) == 10:\r\n",
        "      break\r\n",
        "    if labels[y_train[i]] not in p_labels:\r\n",
        "      p_images.append(x_train[i])\r\n",
        "      p_labels.append(labels[y_train[i]])\r\n",
        "\r\n",
        "  wandb.log({ \"Class Examples\": [ wandb.Image(img, caption=label) for img, label in zip(p_images, p_labels)] })"
      ],
      "execution_count": null,
      "outputs": []
    },
    {
      "cell_type": "code",
      "metadata": {
        "id": "W_5xkxQHn3GT"
      },
      "source": [
        "q1_plot_samples()"
      ],
      "execution_count": null,
      "outputs": []
    },
    {
      "cell_type": "markdown",
      "metadata": {
        "id": "n6ovTgpBn6Ke"
      },
      "source": [
        "# Imports"
      ]
    },
    {
      "cell_type": "code",
      "metadata": {
        "id": "Kk6HBy6TrWM4"
      },
      "source": [
        "from keras.datasets import mnist, fashion_mnist\r\n",
        "import matplotlib.pyplot as plt\r\n",
        "import numpy as np\r\n",
        "from tqdm.notebook import tqdm\r\n",
        "from sklearn.preprocessing import OneHotEncoder\r\n",
        "from sklearn.model_selection import train_test_split\r\n",
        "from sklearn.metrics import mean_squared_error, log_loss, accuracy_score"
      ],
      "execution_count": null,
      "outputs": []
    },
    {
      "cell_type": "markdown",
      "metadata": {
        "id": "3vJi8-KR-ZlR"
      },
      "source": [
        "# Model Class"
      ]
    },
    {
      "cell_type": "code",
      "metadata": {
        "id": "7mk75of2rkHa"
      },
      "source": [
        "class FFNNetwork:\r\n",
        "\r\n",
        "    def __init__(self, input_size, output_size=1, hidden_layers=[2], init_func='xavier', act_func='sigmoid', loss_func='ce'):\r\n",
        "\r\n",
        "      # Initializing Network Parameters\r\n",
        "      self.x= input_size\r\n",
        "      self.y= output_size\r\n",
        "      self.h= len(hidden_layers)\r\n",
        "      self.init_func= init_func\r\n",
        "      self.act_func= act_func\r\n",
        "      self.loss_func= loss_func\r\n",
        "      self.sizes= [self.x] + hidden_layers + [self.y]\r\n",
        "      self.W= {}\r\n",
        "      self.B= {}\r\n",
        "      np.random.seed(0)\r\n",
        "\r\n",
        "      # He Initialization\r\n",
        "      if self.init_func=='he':\r\n",
        "        for i in range(self.h+1):\r\n",
        "          self.W[i+1]=np.random.randn(self.sizes[i], self.sizes[i+1]) * np.sqrt(2 / self.sizes[i-1])\r\n",
        "          self.B[i+1]=np.random.randn(1, self.sizes[i+1])\r\n",
        "      \r\n",
        "      # Xavier Initialization\r\n",
        "      elif self.init_func=='xavier':\r\n",
        "        for i in range(self.h+1):\r\n",
        "          self.W[i+1]=np.random.randn(self.sizes[i], self.sizes[i+1]) * np.sqrt(1 / self.sizes[i-1])\r\n",
        "          self.B[i+1]=np.random.randn(1, self.sizes[i+1])\r\n",
        "\r\n",
        "      # Zero Initialization\r\n",
        "      elif self.init_func=='zero':\r\n",
        "        for i in range(self.h+1):\r\n",
        "          self.W[i+1]=np.zeros((self.sizes[i], self.sizes[i+1]))\r\n",
        "          self.B[i+1]=np.zeros((1, self.sizes[i+1]))\r\n",
        "      \r\n",
        "      # Random Initialization\r\n",
        "      else:\r\n",
        "        for i in range(self.h+1):\r\n",
        "          self.W[i+1]=np.random.randn(self.sizes[i], self.sizes[i+1])\r\n",
        "          self.B[i+1]=np.random.randn(1, self.sizes[i+1])\r\n",
        "\r\n",
        "    def perceptron(self, x, w, b):\r\n",
        "      \"\"\" It computes the perceptron output for the inputs passed \"\"\"\r\n",
        "      return np.dot(x, w)+ b\r\n",
        "\r\n",
        "    def activation(self, x):\r\n",
        "      \"\"\" It computes the activation function used \"\"\"\r\n",
        "      # Using tanh function as the activation function\r\n",
        "      if self.act_func == 'tanh':\r\n",
        "        return np.tanh(x)\r\n",
        "      \r\n",
        "      # Using ReLU function as the activation function\r\n",
        "      elif self.act_func == 'relu':\r\n",
        "        return np.maximum(0, x)\r\n",
        "\r\n",
        "      # Using sigmoid function as the activation function\r\n",
        "      else:\r\n",
        "        return 1.0/(1.0 + np.exp(-x))\r\n",
        "\r\n",
        "    def grad_activation(self, x):\r\n",
        "      \"\"\" It computes the gradient of activation function used \"\"\"\r\n",
        "      # Gradient of tanh function\r\n",
        "      if self.act_func == 'tanh':\r\n",
        "        return (1 - np.square(x))\r\n",
        "      \r\n",
        "      # Gradient of ReLU function\r\n",
        "      elif self.act_func == 'relu':\r\n",
        "        return (1.0 * (x>0))\r\n",
        "\r\n",
        "      # Gradient of sigmoid function\r\n",
        "      else:\r\n",
        "        return x * (1-x)\r\n",
        "      \r\n",
        "\r\n",
        "    def softmax(self, y):\r\n",
        "      \"\"\" It computes the softmax of input array passed \"\"\"\r\n",
        "      max=np.max(y)\r\n",
        "      exps=np.exp(y-max)\r\n",
        "      return np.exp(y-max)/np.sum(exps)\r\n",
        "\r\n",
        "    def forward_pass(self, x):\r\n",
        "      \"\"\" It runs a forward pass of Feed Forward Neural Network \"\"\"\r\n",
        "      self.A={}\r\n",
        "      self.H={}\r\n",
        "      self.H[0]= x\r\n",
        "      \r\n",
        "      for i in range(self.h+1):\r\n",
        "        self.A[i+1]=np.matmul(self.H[i], self.W[i+1]) + self.B[i+1]\r\n",
        "        self.H[i+1]=self.activation(self.A[i+1])\r\n",
        "      self.H[self.h+1]=self.softmax(self.A[self.h+1])\r\n",
        "      return self.H[self.h+1]\r\n",
        "\r\n",
        "    def grad(self, x, y):\r\n",
        "      \"\"\" It computes the gradient using backpropgation \"\"\"\r\n",
        "      \r\n",
        "      L=self.h+1\r\n",
        "      self.forward_pass(x)\r\n",
        "\r\n",
        "      self.dW={}\r\n",
        "      self.dB={}\r\n",
        "      self.dA={}\r\n",
        "      self.dH={}\r\n",
        "\r\n",
        "      if self.loss_func=='mse':\r\n",
        "        self.dA[L]=(self.H[L]-y) * self.H[L] * (1-self.H[L])\r\n",
        "      else:\r\n",
        "        self.dA[L]=(self.H[L]-y)\r\n",
        "\r\n",
        "      for k in range(L, 0, -1):\r\n",
        "        self.dW[k]=np.matmul(self.H[k-1].T, self.dA[k])\r\n",
        "        self.dB[k]=self.dA[k]\r\n",
        "        self.dH[k-1]=np.matmul(self.dA[k], self.W[k].T)\r\n",
        "        self.dA[k-1]=np.multiply(self.dH[k-1], self.grad_activation(self.H[k-1]))\r\n",
        "\r\n",
        "    def predict(self, X):\r\n",
        "      \"\"\" It predicts the output for the inputs passed \"\"\"\r\n",
        "      preds=[]\r\n",
        "      for x in X:\r\n",
        "        preds.append(self.forward_pass(x)) \r\n",
        "      return np.array(preds).squeeze()\r\n",
        "\r\n",
        "    def fit(self, inputs, output_labels, epochs=1, lr=0.001, weight_decay=0, display_loss=False, display_accuracy=False, opt_algo='adam', batch_size=128, gamma=0.9, beta=0.9, beta1=0.9, beta2=0.999, epsi=1e-8):\r\n",
        "      \"\"\" It trains the Neural Netword \"\"\"\r\n",
        "      \r\n",
        "      x_train, x_val, y_train, y_val= train_test_split(inputs, output_labels, test_size=0.1, random_state=1)\r\n",
        "\r\n",
        "      accuracy, val_accuracy, loss, val_loss= {}, {}, {}, {}\r\n",
        "      vW, vB, best_W, best_B= {}, {}, {}, {}\r\n",
        "      max_accuracy, max_val_accuracy = 0, 0\r\n",
        "      for i in range(self.h+1):\r\n",
        "        vW[i+1]=np.zeros((self.sizes[i], self.sizes[i+1]))\r\n",
        "        vB[i+1]=np.zeros((1, self.sizes[i+1]))\r\n",
        "\r\n",
        "      m=inputs.shape[2]\r\n",
        "\r\n",
        "      for e in tqdm(range(epochs), total=epochs, unit=\"epoch\"):\r\n",
        "        dW, dB= {}, {}\r\n",
        "\r\n",
        "        for i in range(self.h+1):\r\n",
        "          dW[i+1]=np.zeros((self.sizes[i], self.sizes[i+1]))\r\n",
        "          dB[i+1]=np.zeros((1, self.sizes[i+1]))\r\n",
        "\r\n",
        "        # Gradient Descent/ Batch Gradient Descent/ Vanilla Gradient Descent\r\n",
        "        if opt_algo=='gd' or opt_algo=='bgd' or opt_algo=='vgd': \r\n",
        "\r\n",
        "          for x, y in zip(x_train, y_train):\r\n",
        "            self.grad(x, y)\r\n",
        "            for i in range(self.h+1):\r\n",
        "              if l2_regularisation:\r\n",
        "                dW[i+1]+=self.dW[i+1] + weight_decay * self.W[i+1]\r\n",
        "              else:\r\n",
        "                dW[i+1]+=self.dW[i+1]\r\n",
        "              dB[i+1]+=self.dB[i+1]\r\n",
        "\r\n",
        "          for i in range(self.h+1):\r\n",
        "            self.W[i+1]-= lr* (dW[i+1])/m\r\n",
        "            self.B[i+1]-= lr* (dB[i+1])/m\r\n",
        "\r\n",
        "        # Stochastic Gradient Descent\r\n",
        "        elif opt_algo=='sgd':\r\n",
        "          \r\n",
        "          sample_count= 0\r\n",
        "          for x, y in zip(x_train, y_train):\r\n",
        "            self.grad(x, y)\r\n",
        "            sample_count+=1\r\n",
        "            for i in range(self.h+1): \r\n",
        "              dW[i+1]+= self.dW[i+1] + weight_decay * self.W[i+1]\r\n",
        "              dB[i+1]+= self.dB[i+1]\r\n",
        "\r\n",
        "              if sample_count % batch_size == 0:\r\n",
        "                self.W[i+1]-= lr*dW[i+1]/batch_size\r\n",
        "                self.B[i+1]-= lr*dB[i+1]/batch_size\r\n",
        "\r\n",
        "        # Momentum Based Gradient Descent\r\n",
        "        elif opt_algo=='momentum':\r\n",
        "\r\n",
        "          sample_count=0\r\n",
        "          for x, y in zip(x_train, y_train):\r\n",
        "            self.grad(x, y)\r\n",
        "            for i in range(self.h+1): \r\n",
        "              dW[i+1]+= self.dW[i+1] + weight_decay * self.W[i+1]\r\n",
        "              dB[i+1]+= self.dB[i+1]\r\n",
        "            \r\n",
        "            sample_count+=1\r\n",
        "            if sample_count % batch_size == 0:\r\n",
        "              for i in range(self.h+1):\r\n",
        "                vW[i+1]= (gamma * vW[i+1] + lr*dW[i+1])/batch_size\r\n",
        "                vB[i+1]= (gamma * vB[i+1] + lr*dB[i+1])/batch_size\r\n",
        "                self.W[i+1]-= vW[i+1]\r\n",
        "                self.B[i+1]-= vB[i+1]\r\n",
        "\r\n",
        "        # Nestrov Accelerated Gradient Descent\r\n",
        "        elif opt_algo=='nesterov':\r\n",
        "\r\n",
        "          sample_count=0\r\n",
        "          for x, y in zip(x_train, y_train):\r\n",
        "            self.grad(x, y)\r\n",
        "            sample_count+=1\r\n",
        "            for i in range(self.h+1): \r\n",
        "              dW[i+1]+= self.dW[i+1] + weight_decay * self.W[i+1]\r\n",
        "              dB[i+1]+= self.dB[i+1]\r\n",
        "\r\n",
        "            if sample_count % batch_size == 0:\r\n",
        "              tW, tB= {}, {}\r\n",
        "              for i in range(self.h+1):\r\n",
        "                tW[i+1]= self.W[i+1] - gamma * vW[i+1]\r\n",
        "                tB[i+1]= self.B[i+1] - gamma * vB[i+1]\r\n",
        "                self.W[i+1]= tW[i+1]\r\n",
        "                self.B[i+1]= tB[i+1]\r\n",
        "\r\n",
        "              self.grad(x, y)\r\n",
        "              for i in range(self.h+1):\r\n",
        "                vW[i+1]= gamma * vW[i+1] + lr * self.dW[i+1]\r\n",
        "                vB[i+1]= gamma * vB[i+1] + lr * self.dB[i+1]\r\n",
        "                self.W[i+1]= tW[i+1] - vW[i+1]\r\n",
        "                self.B[i+1]= tB[i+1] - vB[i+1]\r\n",
        "                               \r\n",
        "        # RMSProp Gradient Descent\r\n",
        "        elif opt_algo=='rmsprop':\r\n",
        "\r\n",
        "          sample_count=0\r\n",
        "          for x, y in zip(x_train, y_train):\r\n",
        "            self.grad(x, y)\r\n",
        "            sample_count+=1\r\n",
        "            for i in range(self.h+1): \r\n",
        "              dW[i+1]+= self.dW[i+1] + weight_decay * self.W[i+1]\r\n",
        "              dB[i+1]+= self.dB[i+1]\r\n",
        "\r\n",
        "            if sample_count % batch_size == 0:\r\n",
        "\r\n",
        "              for i in range(self.h+1):\r\n",
        "                vW[i+1]= beta * vW[i+1] + (1-beta) * np.power(dW[i+1], 2)\r\n",
        "                vB[i+1]= beta * vB[i+1] + (1-beta) * np.power(dB[i+1], 2)\r\n",
        "                self.W[i+1]-= (lr/np.sqrt(vW[i+1] + epsi)) * dW[i+1]\r\n",
        "                self.B[i+1]-= (lr/np.sqrt(vB[i+1] + epsi)) * dB[i+1]                \r\n",
        "\r\n",
        "        # Adam Gradient Descent\r\n",
        "        elif opt_algo=='adam':\r\n",
        "\r\n",
        "          sample_count=0\r\n",
        "          for x, y in zip(x_train, y_train):\r\n",
        "            self.grad(x, y)\r\n",
        "            sample_count+=1\r\n",
        "            for i in range(self.h+1): \r\n",
        "              dW[i+1]+= self.dW[i+1] + weight_decay * self.W[i+1]\r\n",
        "              dB[i+1]+= self.dB[i+1]\r\n",
        "\r\n",
        "            if sample_count % batch_size == 0:\r\n",
        "              mW, mB= {}, {}\r\n",
        "              for i in range(self.h+1):\r\n",
        "                mW[i+1]= np.zeros(dW[i+1].shape)\r\n",
        "                mB[i+1]= np.zeros(dB[i+1].shape)\r\n",
        "                mW[i+1]= beta1 * mW[i+1] + (1 - beta1) * dW[i+1]\r\n",
        "                mB[i+1]= beta1 * mB[i+1] + (1 - beta1) * dB[i+1]\r\n",
        "\r\n",
        "                vW[i+1]= beta2 * vW[i+1] + (1 - beta2) * np.power(dW[i+1], 2)\r\n",
        "                vB[i+1]= beta2 * vB[i+1] + (1 - beta2) * np.power(dB[i+1], 2)\r\n",
        "\r\n",
        "                mW[i+1]= (1.0/(1.0- np.power(beta1 , sample_count))) * mW[i+1]\r\n",
        "                mB[i+1]= (1.0/(1.0- np.power(beta1 , sample_count))) * mB[i+1]\r\n",
        "                vW[i+1]= (1.0/(1.0- np.power(beta2 , sample_count))) * vW[i+1] \r\n",
        "                vB[i+1]= (1.0/(1.0- np.power(beta2 , sample_count))) * vB[i+1]\r\n",
        "\r\n",
        "                self.W[i+1]-= (lr/np.sqrt(vW[i+1] + epsi)) * mW[i+1]\r\n",
        "                self.B[i+1]-= (lr/np.sqrt(vB[i+1] + epsi)) * mB[i+1]\r\n",
        "\r\n",
        "        # Nadam Gradient Descent\r\n",
        "        elif opt_algo=='nadam':\r\n",
        "\r\n",
        "          sample_count=0\r\n",
        "          for x, y in zip(x_train, y_train):\r\n",
        "            self.grad(x, y)\r\n",
        "            sample_count+=1\r\n",
        "            for i in range(self.h+1): \r\n",
        "              dW[i+1]+= self.dW[i+1] + weight_decay * self.W[i+1]\r\n",
        "              dB[i+1]+= self.dB[i+1]\r\n",
        "\r\n",
        "            if sample_count % batch_size == 0:\r\n",
        "              mW, mB= {}, {}\r\n",
        "              for i in range(self.h+1):\r\n",
        "                mW[i+1]= np.zeros(dW[i+1].shape)\r\n",
        "                mB[i+1]= np.zeros(dB[i+1].shape)\r\n",
        "                mW[i+1]= beta1 * mW[i+1] + (1-beta1) * dW[i+1]\r\n",
        "                mB[i+1]= beta1 * mB[i+1] + (1-beta1) * dB[i+1]\r\n",
        "\r\n",
        "                vW[i+1]= beta2 * vW[i+1] + (1-beta2) * np.power(dW[i+1], 2)\r\n",
        "                vB[i+1]= beta2 * vB[i+1] + (1-beta2) * np.power(dB[i+1], 2)\r\n",
        "                \r\n",
        "                mW[i+1]= mW[i+1] / (1- np.power(beta1 , sample_count))\r\n",
        "                mB[i+1]= mB[i+1] / (1- np.power(beta1 , sample_count))\r\n",
        "                vW[i+1]= vW[i+1] / (1- np.power(beta2 , sample_count))\r\n",
        "                vB[i+1]= vB[i+1] / (1- np.power(beta2 , sample_count))\r\n",
        "                xW, xB= {}, {}\r\n",
        "                xW[i+1]= beta1 * mW[i+1] + (1-beta1) * dW[i+1] / (1- np.power(beta1, sample_count))\r\n",
        "                xB[i+1]= beta1 * mB[i+1] + (1-beta1) * dB[i+1] / (1- np.power(beta1, sample_count))\r\n",
        "                self.W[i+1]-= ((lr/np.sqrt(vW[i+1] + epsi)) * xW[i+1])\r\n",
        "                self.B[i+1]-= ((lr/np.sqrt(vB[i+1] + epsi)) * xB[i+1])\r\n",
        "\r\n",
        "        # Calculating Loss and Accuracy\r\n",
        "        y_preds=self.predict(x_train)\r\n",
        "        y_val_preds=self.predict(x_val)\r\n",
        "        if self.loss_func=='mse':\r\n",
        "          loss[e]= mean_squared_error(y_train, y_preds)\r\n",
        "          val_loss[e]= mean_squared_error(y_val, y_val_preds)\r\n",
        "        else:\r\n",
        "          loss[e]= log_loss(y_train, y_preds)\r\n",
        "          val_loss[e]= log_loss(y_val, y_val_preds)\r\n",
        "\r\n",
        "        accuracy[e]= accuracy_score(np.argmax(y_preds, axis=1), np.argmax(y_train, axis=1))\r\n",
        "        val_accuracy[e]= accuracy_score(np.argmax(y_val_preds, axis=1), np.argmax(y_val, axis=1))\r\n",
        "\r\n",
        "        if accuracy[e] > max_accuracy:\r\n",
        "          max_accuracy= accuracy[e]\r\n",
        "          max_val_accuracy= val_accuracy[e]\r\n",
        "          best_W=self.W.copy()\r\n",
        "          best_B=self.B.copy()\r\n",
        "        \r\n",
        "        # wandb.log({ 'mnist_accuracy': accuracy[e]})\r\n",
        "        # wandb.log({ 'epoch': e, 'loss': loss[e], 'val_loss': val_loss[e], 'accuracy': accuracy[e], 'val_accuracy': val_accuracy[e]})\r\n",
        "\r\n",
        "      # Plotting Loss\r\n",
        "      if display_accuracy:\r\n",
        "        print('Train Accuracy : ', max_accuracy)\r\n",
        "        print('Validation Accuracy : ', max_val_accuracy)\r\n",
        "\r\n",
        "      # Plotting Loss\r\n",
        "      if display_loss:\r\n",
        "        plt.plot(np.asarray(list(loss.values())))\r\n",
        "        plt.xlabel(\"Epoch\")\r\n",
        "        plt.ylabel(\"Mean Squared Loss\")\r\n",
        "        plt.show()\r\n"
      ],
      "execution_count": 32,
      "outputs": []
    },
    {
      "cell_type": "markdown",
      "metadata": {
        "id": "1LH3MPfQb-C_"
      },
      "source": [
        "# Wandb Hyperparameter Tunning"
      ]
    },
    {
      "cell_type": "code",
      "metadata": {
        "colab": {
          "base_uri": "https://localhost:8080/"
        },
        "id": "ynRCWrgEg7xK",
        "outputId": "a3909ee1-acd4-43fb-d54e-3f0a205b4058"
      },
      "source": [
        "# Configure the sweep – specify the parameters to search through, the search strategy, the optimization metric et all.\r\n",
        "sweep_config = {\r\n",
        "    'method': 'random', #grid, random\r\n",
        "    'metric': {\r\n",
        "      'name': 'accuracy',\r\n",
        "      'goal': 'maximize'   \r\n",
        "    },\r\n",
        "    'parameters': {\r\n",
        "        'epochs': {\r\n",
        "            'values': [ 5, 10]\r\n",
        "        },\r\n",
        "        'hidden_layers': {\r\n",
        "            'values': [3, 4, 5]\r\n",
        "        },\r\n",
        "        'hidden_layer_size': {\r\n",
        "            'values': [32, 64, 128]\r\n",
        "        },\r\n",
        "        'weight_decay': {\r\n",
        "            'values': [0, 0.0005, 0.5]\r\n",
        "        },\r\n",
        "        'learning_rate': {\r\n",
        "            'values': [1e-3, 1e-4]\r\n",
        "        },\r\n",
        "        'optimizer': {\r\n",
        "            'values': ['sgd', 'momentum', 'nesterov', 'rmsprop', 'adam', 'nadam']\r\n",
        "        },\r\n",
        "        'batch_size': {\r\n",
        "            'values': [16, 32, 64]\r\n",
        "        },\r\n",
        "        'initialisation': {\r\n",
        "            'values': ['random', 'xavier']\r\n",
        "        },        \r\n",
        "        'activation': {\r\n",
        "            'values': ['sigmoid', 'tanh', 'relu']\r\n",
        "        }\r\n",
        "    }\r\n",
        "}\r\n",
        "\r\n",
        "sweep_id = wandb.sweep(sweep_config, entity=\"ravi-kumar\", project=\"assignment-1\")"
      ],
      "execution_count": null,
      "outputs": [
        {
          "output_type": "stream",
          "text": [
            "\u001b[34m\u001b[1mwandb\u001b[0m: \u001b[33mWARNING\u001b[0m Calling wandb.login() after wandb.init() has no effect.\n"
          ],
          "name": "stderr"
        },
        {
          "output_type": "stream",
          "text": [
            "Create sweep with ID: wf3zsbpf\n",
            "Sweep URL: https://wandb.ai/ravi-kumar/assignment-1/sweeps/wf3zsbpf\n"
          ],
          "name": "stdout"
        }
      ]
    },
    {
      "cell_type": "code",
      "metadata": {
        "id": "-9_gSf46igdI"
      },
      "source": [
        "def train():\r\n",
        "  config_defaults = {\r\n",
        "        'epochs': 5,\r\n",
        "        'hidden_layers': 3,\r\n",
        "        'hidden_layer_size': 32,\r\n",
        "        'weight_decay': 0,\r\n",
        "        'learning_rate': 1e-3,\r\n",
        "        'optimizer': 'adam',\r\n",
        "        'batch_size': 64,\r\n",
        "        'initialisation': 'xavier',        \r\n",
        "        'activation': 'sigmoid'\r\n",
        "    }\r\n",
        "  wandb.init(config=config_defaults)\r\n",
        "  config= wandb.config\r\n",
        "  hl= [config.hidden_layer_size for h in range(config.hidden_layers)]\r\n",
        "  ffnn= FFNNetwork(x_train.shape[2], output_size= y_train.shape[1], hidden_layers=hl, act_func=config.activation, init_func=config.initialisation)\r\n",
        "  ffnn.fit(x_train, y_train, display_loss=True, opt_algo=config.optimizer, weight_decay=config.weight_decay, epochs=config.epochs, lr=config.learning_rate, batch_size=config.batch_size)"
      ],
      "execution_count": null,
      "outputs": []
    },
    {
      "cell_type": "code",
      "metadata": {
        "id": "_udei3s-ifor"
      },
      "source": [
        "wandb.agent(sweep_id, train)"
      ],
      "execution_count": null,
      "outputs": []
    },
    {
      "cell_type": "markdown",
      "metadata": {
        "id": "oZwxuWBN-R7P"
      },
      "source": [
        "# Method for preprocessing image dataset"
      ]
    },
    {
      "cell_type": "code",
      "metadata": {
        "id": "EmfWKuVdrcI3"
      },
      "source": [
        "def load_fashion_mnist_data(split_val=False):\r\n",
        "\r\n",
        "    \"\"\" Prepares image data for muti-class classification model \"\"\"\r\n",
        "\r\n",
        "    # Load data\r\n",
        "    (x_train, y_train), (x_test, y_test) = fashion_mnist.load_data()\r\n",
        "\r\n",
        "    # Flaten image data\r\n",
        "    x_train= x_train.reshape(x_train.shape[0], 1, x_train.shape[1] * x_train.shape[2])\r\n",
        "    x_test= x_test.reshape(x_test.shape[0], 1, x_test.shape[1] * x_test.shape[2])\r\n",
        "\r\n",
        "    # Convert from integers to floats\r\n",
        "    x_train_f = x_train.astype(np.float64)\r\n",
        "    x_test_f = x_test.astype(np.float64)\r\n",
        "\r\n",
        "    # Normalize\r\n",
        "    x_train_norm= x_train_f/255.0\r\n",
        "    x_test_norm= x_test_f/255.0\r\n",
        "\r\n",
        "    # Encode output labels using one hot encoding\r\n",
        "    encoder=OneHotEncoder()\r\n",
        "    y_train_encoded= encoder.fit_transform(y_train.reshape(-1, 1)).toarray()\r\n",
        "    y_test_encoded= encoder.transform(y_test.reshape(-1, 1)).toarray()\r\n",
        "\r\n",
        "    if split_val:\r\n",
        "      x_train, x_val, y_train, y_val= train_test_split(x_train, y_train, test_size=0.1, random_state=1)\r\n",
        "      return x_train_norm, x_val, x_test_norm, y_train_encoded, y_val, y_test_encoded\r\n",
        "    else:\r\n",
        "      return x_train_norm, x_test_norm, y_train_encoded, y_test_encoded"
      ],
      "execution_count": null,
      "outputs": []
    },
    {
      "cell_type": "code",
      "metadata": {
        "id": "NFQTGWwZQqvQ"
      },
      "source": [
        "def load_mnist_data(split_val=False):\r\n",
        "\r\n",
        "    \"\"\" Prepares image data for muti-class classification model \"\"\"\r\n",
        "\r\n",
        "    # Load data\r\n",
        "    (x_train, y_train), (x_test, y_test) = mnist.load_data()\r\n",
        "\r\n",
        "    # Flaten image data\r\n",
        "    x_train= x_train.reshape(x_train.shape[0], 1, x_train.shape[1] * x_train.shape[2])\r\n",
        "    x_test= x_test.reshape(x_test.shape[0], 1, x_test.shape[1] * x_test.shape[2])\r\n",
        "\r\n",
        "    # Convert from integers to floats\r\n",
        "    x_train_f = x_train.astype(np.float64)\r\n",
        "    x_test_f = x_test.astype(np.float64)\r\n",
        "\r\n",
        "    # Normalize\r\n",
        "    x_train_norm= x_train_f/255.0\r\n",
        "    x_test_norm= x_test_f/255.0\r\n",
        "\r\n",
        "    # Encode output labels using one hot encoding\r\n",
        "    encoder=OneHotEncoder()\r\n",
        "    y_train_encoded= encoder.fit_transform(y_train.reshape(-1, 1)).toarray()\r\n",
        "    y_test_encoded= encoder.transform(y_test.reshape(-1, 1)).toarray()\r\n",
        "\r\n",
        "    if split_val:\r\n",
        "      x_train, x_val, y_train, y_val= train_test_split(x_train, y_train, test_size=0.1, random_state=1)\r\n",
        "      return x_train_norm, x_val, x_test_norm, y_train_encoded, y_val, y_test_encoded\r\n",
        "    else:\r\n",
        "      return x_train_norm, x_test_norm, y_train_encoded, y_test_encoded"
      ],
      "execution_count": null,
      "outputs": []
    },
    {
      "cell_type": "markdown",
      "metadata": {
        "id": "23oHRcfISqnm"
      },
      "source": [
        "# Training and Testing Model for fashion_mnist dataset"
      ]
    },
    {
      "cell_type": "markdown",
      "metadata": {
        "id": "2HJbSO8BTGGH"
      },
      "source": [
        "## Loading Data"
      ]
    },
    {
      "cell_type": "code",
      "metadata": {
        "id": "NaLBDIcnrocn"
      },
      "source": [
        "x_train, x_test, y_train, y_test= load_fashion_mnist_data()"
      ],
      "execution_count": null,
      "outputs": []
    },
    {
      "cell_type": "markdown",
      "metadata": {
        "id": "SL6v6j_tTJcJ"
      },
      "source": [
        "## Training Model"
      ]
    },
    {
      "cell_type": "code",
      "metadata": {
        "id": "_0KSJPIyrrMW"
      },
      "source": [
        "ffnn=FFNNetwork(x_train.shape[2], output_size= y_train.shape[1], hidden_layers=[128, 128, 128], act_func='tanh', loss_func='ce')\r\n",
        "ffnn.fit(x_train, y_train, weight_decay=0.0005, display_loss=True, display_accuracy=True, batch_size=32, opt_algo='rmsprop', epochs=10, lr=0.0001)"
      ],
      "execution_count": null,
      "outputs": []
    },
    {
      "cell_type": "markdown",
      "metadata": {
        "id": "7YdMbHsJToKP"
      },
      "source": [
        "## Testing Model"
      ]
    },
    {
      "cell_type": "code",
      "metadata": {
        "colab": {
          "base_uri": "https://localhost:8080/"
        },
        "id": "BqnqOSEUrur1",
        "outputId": "1800f317-e374-426d-f5ac-769e9972000f"
      },
      "source": [
        "y_preds=ffnn.predict(x_test)\r\n",
        "y_preds=np.argmax(y_preds, axis=1)\r\n",
        "test=np.argmax(y_test, axis=1)\r\n",
        "accuracy_score(y_preds, test)"
      ],
      "execution_count": 35,
      "outputs": [
        {
          "output_type": "execute_result",
          "data": {
            "text/plain": [
              "0.8481"
            ]
          },
          "metadata": {
            "tags": []
          },
          "execution_count": 35
        }
      ]
    },
    {
      "cell_type": "markdown",
      "metadata": {
        "id": "AV4vLM0kS6i6"
      },
      "source": [
        "# Training and Testing Model for mnist dataset"
      ]
    },
    {
      "cell_type": "markdown",
      "metadata": {
        "id": "SW29rYFoTOLg"
      },
      "source": [
        "## Loading Data"
      ]
    },
    {
      "cell_type": "code",
      "metadata": {
        "id": "LQmf0oEsTDLS"
      },
      "source": [
        "x_train, x_test, y_train, y_test= load_mnist_data()"
      ],
      "execution_count": 27,
      "outputs": []
    },
    {
      "cell_type": "markdown",
      "metadata": {
        "id": "NI4sK-puTYfT"
      },
      "source": [
        "## Training Model"
      ]
    },
    {
      "cell_type": "code",
      "metadata": {
        "id": "O-ugaPngTcab"
      },
      "source": [
        "ffnn=FFNNetwork(x_train.shape[2], output_size= y_train.shape[1], hidden_layers=[128, 128, 128], act_func='relu', loss_func='ce')\r\n",
        "ffnn.fit(x_train, y_train, weight_decay=0.0005, display_loss=True, display_accuracy=True, batch_size=64, opt_algo='momentum', epochs=10, lr=0.001)"
      ],
      "execution_count": null,
      "outputs": []
    },
    {
      "cell_type": "markdown",
      "metadata": {
        "id": "rHbIgjB9ThdR"
      },
      "source": [
        "## Testing Model"
      ]
    },
    {
      "cell_type": "code",
      "metadata": {
        "colab": {
          "base_uri": "https://localhost:8080/"
        },
        "id": "ActzKOlETkEQ",
        "outputId": "1a95dbe8-c4c1-4ee5-dce1-663e08132e67"
      },
      "source": [
        "y_preds=ffnn.predict(x_test)\r\n",
        "y_preds=np.argmax(y_preds, axis=1)\r\n",
        "test=np.argmax(y_test, axis=1)\r\n",
        "accuracy_score(y_preds, test)"
      ],
      "execution_count": null,
      "outputs": [
        {
          "output_type": "execute_result",
          "data": {
            "text/plain": [
              "0.8267"
            ]
          },
          "metadata": {
            "tags": []
          },
          "execution_count": 11
        }
      ]
    },
    {
      "cell_type": "markdown",
      "metadata": {
        "id": "CAd6Yir4ZfKE"
      },
      "source": [
        "# Plotting Confusion Matrix"
      ]
    },
    {
      "cell_type": "code",
      "metadata": {
        "id": "ZBxfltquZiss"
      },
      "source": [
        "from sklearn.metrics import confusion_matrix\r\n",
        "import seaborn as sn"
      ],
      "execution_count": 36,
      "outputs": []
    },
    {
      "cell_type": "code",
      "metadata": {
        "colab": {
          "base_uri": "https://localhost:8080/",
          "height": 309
        },
        "id": "MSSMLlzvZpZ3",
        "outputId": "a03f7f0e-354a-4f0a-c526-8f1fad4e4e1e"
      },
      "source": [
        "labels=[\"T-shirt/top\",\"Trouser\",\"Pullover\",\"Dress\",\"Coat\",\r\n",
        "        \"Sandal\",\"Shirt\",\"Sneaker\",\"Bag\",\"Ankle boot\"]\r\n",
        "cm=confusion_matrix(test, y_preds)\r\n",
        "figure=sn.heatmap(cm, annot=False, xticklabels=labels, yticklabels=labels, cmap='Greens')\r\n",
        "wandb.log({ 'confusion_matrix': wandb.Image(figure) })\r\n",
        "# wandb.log({\"conf_mat\" : wandb.plot.confusion_matrix(probs=None, y_true=test, preds=y_preds, class_names=labels, title='Confusion Matrix')})\r\n",
        "# wandb.log({'confusion_matrix_heatmap': wandb.plots.HeatMap(labels, labels, cm, show_text=False)})"
      ],
      "execution_count": 37,
      "outputs": [
        {
          "output_type": "display_data",
          "data": {
            "image/png": "[encoded data removed]",
            "text/plain": [
              "<Figure size 432x288 with 2 Axes>"
            ]
          },
          "metadata": {
            "tags": [],
            "needs_background": "light"
          }
        }
      ]
    }
  ]
}